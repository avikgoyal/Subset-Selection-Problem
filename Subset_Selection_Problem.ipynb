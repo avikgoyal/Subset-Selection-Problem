{
  "nbformat": 4,
  "nbformat_minor": 0,
  "metadata": {
    "colab": {
      "provenance": [],
      "authorship_tag": "ABX9TyNw3x/DfRL0W/vKaQAtT+B7",
      "include_colab_link": true
    },
    "kernelspec": {
      "name": "python3",
      "display_name": "Python 3"
    },
    "language_info": {
      "name": "python"
    }
  },
  "cells": [
    {
      "cell_type": "markdown",
      "metadata": {
        "id": "view-in-github",
        "colab_type": "text"
      },
      "source": [
        "<a href=\"https://colab.research.google.com/github/arushi3838/Subset-Selection-Problem/blob/main/Subset_Selection_Problem.ipynb\" target=\"_parent\"><img src=\"https://colab.research.google.com/assets/colab-badge.svg\" alt=\"Open In Colab\"/></a>"
      ]
    },
    {
      "cell_type": "markdown",
      "source": [
        "Subset Selection Problem\n",
        "1. Problem Statement:\n",
        "\n",
        "Find all the subsets from a set of numbers whose sum is zero.\n",
        "\n",
        "Constraint: Subset size must be 5\n",
        "\n",
        "Set={-12, -3, -6, 7, 2, -2, 6, 3, 9, -7, -5, -8, 1, 11, -9, -4}\n",
        "\n"
      ],
      "metadata": {
        "id": "vloP1cDDK7J9"
      }
    },
    {
      "cell_type": "code",
      "execution_count": null,
      "metadata": {
        "colab": {
          "base_uri": "https://localhost:8080/"
        },
        "id": "hTlchFjpHVqu",
        "outputId": "0871bdd8-f331-44a9-c097-f61ac563b120"
      },
      "outputs": [
        {
          "output_type": "stream",
          "name": "stdout",
          "text": [
            "Enter the number of iterations you want1000\n",
            "(-8, 2, 6, -7, 7)\n",
            "(-7, 2, -2, 6, 1)\n",
            "(-8, -6, 1, 7, 6)\n",
            "(-3, -9, -6, 7, 11)\n",
            "(9, -12, 7, 3, -7)\n",
            "(-5, -3, -6, 3, 11)\n",
            "(-4, 2, 7, 3, -8)\n",
            "(-8, 9, -9, -3, 11)\n",
            "(9, -8, -3, -4, 6)\n",
            "(-8, -6, -3, 6, 11)\n",
            "(1, 3, -8, -5, 9)\n",
            "(7, -5, -3, 3, -2)\n",
            "(-2, -4, 3, -8, 11)\n",
            "(2, 11, -7, -4, -2)\n",
            "(-5, 11, -7, -2, 3)\n",
            "(-5, -6, 2, 3, 6)\n",
            "(6, 1, 2, -5, -4)\n",
            "(-12, 7, 11, 3, -9)\n",
            "(3, 1, -7, -6, 9)\n",
            "(-3, -5, -12, 9, 11)\n",
            "(-4, 1, 3, -7, 7)\n",
            "(6, 9, -9, -7, 1)\n",
            "(-3, 1, -9, 9, 2)\n",
            "(6, -2, -9, 9, -4)\n",
            "(7, -7, -3, -6, 9)\n",
            "The length of the resultset is:- 25\n"
          ]
        },
        {
          "output_type": "stream",
          "name": "stderr",
          "text": [
            "<ipython-input-20-1b10a9d7415c>:6: DeprecationWarning: Sampling from a set deprecated\n",
            "since Python 3.9 and will be removed in a subsequent version.\n",
            "  new=r.sample(Set1,5)\n"
          ]
        }
      ],
      "source": [
        "import random as r\n",
        "Set1=set([-12, -3, -6, 7, 2, -2, 6, 3, 9, -7, -5, -8, 1, 11, -9, -4])\n",
        "final=set()\n",
        "x=int(input (\"Enter the number of iterations you want\"))\n",
        "for i in range(x):\n",
        "  new=r.sample(Set1,5)\n",
        "  if sum(new)==0:\n",
        "    final.add(tuple(new))\n",
        "for r in final: \n",
        "  print(r)\n",
        "print(\"The length of the resultset is:-\",len(final))\n",
        "\n"
      ]
    },
    {
      "cell_type": "markdown",
      "source": [
        "2. Problem Statement:\n",
        "\n",
        "Find all the subsets from a set of numbers whose sum is zero.\n",
        "\n",
        "Constraint: Subset size must be 3 to 6 only\n",
        "\n",
        "Set={-12, -3, -6, 7, 2, -2, 6, 3, 9, -7, -5, -8, 1, 11, -9, -4}"
      ],
      "metadata": {
        "id": "y10kYNe5qBvk"
      }
    },
    {
      "cell_type": "code",
      "source": [
        "import random as r\n",
        "Set1=set([-12, -3, -6, 7, 2, -2, 6, 3, 9, -7, -5, -8, 1, 11, -9, -4])\n",
        "final=set()\n",
        "x=int(input (\"Enter the number of iterations you want\"))\n",
        "for i in range(x):\n",
        "  z=r.randint(3,6)\n",
        "  new=r.sample(Set1,z)\n",
        "  if sum(new)==0:\n",
        "    final.add(tuple(new))\n",
        "for r in final: \n",
        "  print(r)\n",
        "print(\"The length of the resultset is:-\",len(final))\n"
      ],
      "metadata": {
        "colab": {
          "base_uri": "https://localhost:8080/"
        },
        "id": "Lx0gNuISqEU5",
        "outputId": "77b6fa45-cfc9-47e9-d37f-63c162621660"
      },
      "execution_count": null,
      "outputs": [
        {
          "output_type": "stream",
          "name": "stdout",
          "text": [
            "Enter the number of iterations you want1000\n",
            "(6, 1, -7)\n",
            "(-7, 6, -6, -2, 9)\n",
            "(-3, 9, -6)\n",
            "(3, 1, -4)\n",
            "(-5, 9, -2, -6, 1, 3)\n",
            "(3, -6, 6, -3)\n",
            "(7, 9, -7, -6, -3)\n",
            "(-2, 7, -5)\n",
            "(-4, 11, 2, -9)\n",
            "(1, 6, -7)\n",
            "(-3, 7, -4)\n",
            "(-9, 6, -8, 11)\n",
            "(11, -3, -5, 3, -6)\n",
            "(2, 7, -9)\n",
            "(-3, 3, -9, 9)\n",
            "(-4, 7, -3)\n",
            "(-4, 1, -9, 3, 9)\n",
            "(-5, 6, -8, 11, -4)\n",
            "(-6, 11, -5)\n",
            "(-12, 7, -2, 11, -6, 2)\n",
            "(11, 2, -5, -3, -12, 7)\n",
            "(1, -4, -5, -2, 7, 3)\n",
            "(-12, 9, 7, -4)\n",
            "(-3, -6, 11, -2)\n",
            "(9, 3, -9, -3)\n",
            "(-2, 11, -9)\n",
            "(-6, 7, -2, 1)\n",
            "(7, -5, -8, 9, -3)\n",
            "(-7, 9, -2)\n",
            "(3, -5, 2)\n",
            "(11, 2, 3, -9, -7)\n",
            "(-3, 9, -7, 6, -5)\n",
            "(9, -4, -8, 3)\n",
            "(-5, 11, -6)\n",
            "The length of the resultset is:- 34\n"
          ]
        },
        {
          "output_type": "stream",
          "name": "stderr",
          "text": [
            "<ipython-input-21-76a623ff05eb>:7: DeprecationWarning: Sampling from a set deprecated\n",
            "since Python 3.9 and will be removed in a subsequent version.\n",
            "  new=r.sample(Set1,z)\n"
          ]
        }
      ]
    }
  ]
}